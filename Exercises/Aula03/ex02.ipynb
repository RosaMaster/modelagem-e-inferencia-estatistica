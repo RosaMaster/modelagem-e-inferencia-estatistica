{
 "cells": [
  {
   "cell_type": "code",
   "execution_count": 1,
   "id": "09bc9e29-23e3-4cec-af32-aeffa1ab51b9",
   "metadata": {},
   "outputs": [],
   "source": [
    "import numpy as np\n",
    "import pandas as pd\n",
    "import matplotlib.pyplot as plt\n",
    "import seaborn as sns\n",
    "import stemgraphic"
   ]
  },
  {
   "cell_type": "markdown",
   "id": "16b661e5-c75b-4ad2-bc27-de12ec88a32a",
   "metadata": {},
   "source": [
    "# Exercício 2\n",
    "O artigo \"Alguma experiência de campo no uso de um método acelerado na estimativa da resistência do concreto em 28 dias\" (*Some field experience in the use of an accelerated method in estimating 28-day strength of concrete*, J. of Amer. Concrete Institute, 1969: 895) fez a regressão de y = resistência do concreto usando tratamento padrão de 28 dias (1 psi = 7 KPa) em relação a x = resistência do concreto usando tratamento acelerado (psi).\n",
    "\n",
    "Suponha que a equação da reta de regressão verdadeira seja $y = 1800 + 1,3 x$. \n",
    "\n",
    "a. Qual é o valor esperado da resistência aos 28 dias quando a resistência usando o tratamento acelerado é igual a 2500? \n",
    "\n",
    "b. Até que ponto podemos esperar que a resistência aos 28 dias mude quando a resistência usando tratamento acelerado aumenta em 1 psi vezes?\n",
    "\n",
    "c. Responda ao item (b) para um aumento de 100 psi. \n",
    "\n",
    "d. Responda ao item (b) para uma diminuição de 100 psi.   "
   ]
  },
  {
   "cell_type": "code",
   "execution_count": 6,
   "id": "58d15be3-914c-4395-b9ab-6591b2e013f7",
   "metadata": {},
   "outputs": [
    {
     "name": "stdout",
     "output_type": "stream",
     "text": [
      "O valor esperado de Y para x=2500 é = 5050.0\n"
     ]
    }
   ],
   "source": [
    "### Resposta a)\n",
    "\n",
    "# Qual é o valor esperado da resistência aos 28 dias quando a resistência usando o tratamento acelerado é igual a 2500?\n",
    "# Como $Y = \\beta_0 + \\beta_1 x_i$ \n",
    "# e $y = 1800 + 1,3 x$. Lembrando que:\n",
    "# y = resistência do concreto usando tratamento padrão de 28 dias. \n",
    "# x = resistência do concreto usando tratamento acelerado [psi] ou [libra-força por polegada quadrada].\n",
    "# $\\beta_0= 1800$ e $\\beta_1= 1,3$ \n",
    "# O valor esperado de $Y$ \n",
    "# $\\mu_{Y:x^*}  = \\beta_0 + \\beta_1 x_i$\n",
    "# Substituindo com os dados indicados no item a, isto é $x=2500$\n",
    "# $\\mu_{Y:2500} = 1800 + 1,3(2500)$.\n",
    "\n",
    "uy1 = (1800 + (1.3 * 2500))\n",
    "print(f\"O valor esperado de Y para x=2500 é = {uy1}\")"
   ]
  },
  {
   "cell_type": "code",
   "execution_count": 7,
   "id": "00fc49f9-13bc-4bc8-ad6a-539fdb5fbb75",
   "metadata": {},
   "outputs": [
    {
     "ename": "SyntaxError",
     "evalue": "invalid syntax (4058638515.py, line 4)",
     "output_type": "error",
     "traceback": [
      "\u001b[1;36m  Cell \u001b[1;32mIn[7], line 4\u001b[1;36m\u001b[0m\n\u001b[1;33m    $y = 1800 + 1,3 x$.\u001b[0m\n\u001b[1;37m    ^\u001b[0m\n\u001b[1;31mSyntaxError\u001b[0m\u001b[1;31m:\u001b[0m invalid syntax\n"
     ]
    }
   ],
   "source": [
    "###  Resposta b)\n",
    "\n",
    "# Até que ponto podemos esperar que a resistência aos 28 dias mude quando a resistência usando tratamento acelerado aumenta em 1 psi vezes?\n",
    "# $y = 1800 + 1,3 x$.\n",
    "# $\\beta_0= 1800$ # intercepto\n",
    "# e $\\beta_1= 1,3$ inclinação\n",
    "# Mudança na variação é definida pela inclinação da reta ou seja $\\beta_1$\n",
    "# O valor esperado de $Y$ será $\\beta_1 \\times 1$\n",
    "# $\\beta_1 = 1,3$\n",
    "\n"
   ]
  },
  {
   "cell_type": "markdown",
   "id": "4596f549-663c-4725-b174-0c79eeae3772",
   "metadata": {},
   "source": []
  },
  {
   "cell_type": "code",
   "execution_count": null,
   "id": "a501ddb8-ca29-4c51-b414-20e29af52632",
   "metadata": {},
   "outputs": [],
   "source": []
  }
 ],
 "metadata": {
  "kernelspec": {
   "display_name": "Python 3 (ipykernel)",
   "language": "python",
   "name": "python3"
  },
  "language_info": {
   "codemirror_mode": {
    "name": "ipython",
    "version": 3
   },
   "file_extension": ".py",
   "mimetype": "text/x-python",
   "name": "python",
   "nbconvert_exporter": "python",
   "pygments_lexer": "ipython3",
   "version": "3.12.2"
  }
 },
 "nbformat": 4,
 "nbformat_minor": 5
}
